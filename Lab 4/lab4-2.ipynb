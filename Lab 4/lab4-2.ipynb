{
 "cells": [
  {
   "cell_type": "code",
   "execution_count": 16,
   "metadata": {},
   "outputs": [
    {
     "name": "stderr",
     "output_type": "stream",
     "text": [
      "/home/joshua/anaconda3/envs/PyTorch/lib/python3.6/importlib/_bootstrap.py:219: RuntimeWarning: numpy.ufunc size changed, may indicate binary incompatibility. Expected 192 from C header, got 216 from PyObject\n",
      "  return f(*args, **kwds)\n",
      "/home/joshua/anaconda3/envs/PyTorch/lib/python3.6/importlib/_bootstrap.py:219: RuntimeWarning: numpy.ufunc size changed, may indicate binary incompatibility. Expected 192 from C header, got 216 from PyObject\n",
      "  return f(*args, **kwds)\n",
      "/home/joshua/anaconda3/envs/PyTorch/lib/python3.6/importlib/_bootstrap.py:219: RuntimeWarning: numpy.ufunc size changed, may indicate binary incompatibility. Expected 192 from C header, got 216 from PyObject\n",
      "  return f(*args, **kwds)\n",
      "/home/joshua/anaconda3/envs/PyTorch/lib/python3.6/importlib/_bootstrap.py:219: RuntimeWarning: numpy.ufunc size changed, may indicate binary incompatibility. Expected 192 from C header, got 216 from PyObject\n",
      "  return f(*args, **kwds)\n"
     ]
    }
   ],
   "source": [
    "import numpy as np\n",
    "import matplotlib.pyplot as plt\n",
    "from sklearn import metrics\n",
    "import collections"
   ]
  },
  {
   "cell_type": "code",
   "execution_count": 7,
   "metadata": {},
   "outputs": [],
   "source": [
    "x = [0,1,5,6]\n",
    "px = np.array([0,0.2,0.2,0]) #p(x|w0)\n",
    "\n",
    "x1 = [3.5,4,6,6.5]\n",
    "px1 = np.array([0,0.4,0.4,0])   #p(x|w1)"
   ]
  },
  {
   "cell_type": "code",
   "execution_count": 6,
   "metadata": {},
   "outputs": [
    {
     "data": {
      "text/plain": [
       "array([0.        , 0.13333333, 0.13333333, 0.        ])"
      ]
     },
     "execution_count": 6,
     "metadata": {},
     "output_type": "execute_result"
    }
   ],
   "source": [
    "np.array(px)*(2/3)"
   ]
  },
  {
   "cell_type": "code",
   "execution_count": 15,
   "metadata": {},
   "outputs": [
    {
     "data": {
      "text/plain": [
       "[0, 9, 0, 0.2]"
      ]
     },
     "execution_count": 15,
     "metadata": {},
     "output_type": "execute_result"
    },
    {
     "data": {
      "image/png": "[encoded data removed]",
      "text/plain": [
       "<Figure size 432x288 with 1 Axes>"
      ]
     },
     "metadata": {
      "needs_background": "light"
     },
     "output_type": "display_data"
    }
   ],
   "source": [
    "plt.plot(x,px*(2/3),'r',x1,px1 * (1/3),'b')\n",
    "plt.plot([4.5,4.5],[0,0.15],'k--','linewidth',2)#Decision boundary\n",
    "plt.ylabel('$p(x|\\omega_i)$$P(\\omega_i)$')\n",
    "plt.xlabel('x')\n",
    "plt.axis([0,9,0,0.2])"
   ]
  },
  {
   "cell_type": "code",
   "execution_count": 28,
   "metadata": {},
   "outputs": [],
   "source": [
    "xx = np.arange(0.1, 6.5, 0.1)\n",
    "phit = np.zeros(len(xx))\n",
    "pfa = np.zeros(len(xx))\n",
    "for i in range(len(xx)):\n",
    "    if xx[i]>6:\n",
    "        phit[i]=(6.5-xx[i])*(-0.8*(xx[i]-6.5))/2\n",
    "    elif xx[i]>4:\n",
    "        phit[i]=(6.5-xx[i]+6-xx[i])*0.4/2\n",
    "    elif xx[i]>3.5:\n",
    "        phit[i]=0.9+(0.8*(xx[i]-3.5)+0.4)*(4-xx[i])/2\n",
    "    else:\n",
    "        phit[i]=1\n",
    "\n",
    "for i in range(len(xx)):\n",
    "    if xx[i]>6:\n",
    "        pfa[i]=0\n",
    "    elif xx[i]>5:\n",
    "        pfa[i]=(6-xx[i])*(-0.2*(xx[i]-6))/2\n",
    "    elif xx[i]>1:\n",
    "        pfa[i]=(6-xx[i]+5-xx[i])*0.2/2\n",
    "    else:\n",
    "        pfa[i]=0.9+(0.2+xx[i])*(1-xx[i])/2\n"
   ]
  },
  {
   "cell_type": "code",
   "execution_count": 33,
   "metadata": {},
   "outputs": [
    {
     "data": {
      "text/plain": [
       "[0, 1.4, 0, 1]"
      ]
     },
     "execution_count": 33,
     "metadata": {},
     "output_type": "execute_result"
    },
    {
     "data": {
      "image/png": "[encoded data removed]",
      "text/plain": [
       "<Figure size 432x288 with 1 Axes>"
      ]
     },
     "metadata": {
      "needs_background": "light"
     },
     "output_type": "display_data"
    }
   ],
   "source": [
    "# plt.figure('color','w')\n",
    "plt.plot(pfa,phit)\n",
    "plt.plot(pfa[10],phit[10],'ro','linewidth',2)\n",
    "plt.plot(pfa[35],phit[35],'ro','linewidth',2)\n",
    "plt.plot(pfa[40],phit[40],'ro','linewidth',2)\n",
    "plt.plot(pfa[50],phit[50],'ro','linewidth',2)\n",
    "plt.plot(pfa[60],phit[60],'ro','linewidth',2)\n",
    "plt.xlabel('$P(x<x^*|x\\in\\omega_0)$')\n",
    "plt.ylabel('$P(x>x^*|x\\in\\omega_1)$')\n",
    "plt.axis([0,1.4,0,1])"
   ]
  }
 ],
 "metadata": {
  "kernelspec": {
   "display_name": "Python 3",
   "language": "python",
   "name": "python3"
  },
  "language_info": {
   "codemirror_mode": {
    "name": "ipython",
    "version": 3
   },
   "file_extension": ".py",
   "mimetype": "text/x-python",
   "name": "python",
   "nbconvert_exporter": "python",
   "pygments_lexer": "ipython3",
   "version": "3.6.8"
  }
 },
 "nbformat": 4,
 "nbformat_minor": 2
}
