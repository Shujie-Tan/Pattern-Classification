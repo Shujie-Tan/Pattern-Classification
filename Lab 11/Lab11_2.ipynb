{
 "cells": [
  {
   "cell_type": "markdown",
   "metadata": {},
   "source": [
    "## Lab #11_2 iris"
   ]
  },
  {
   "cell_type": "code",
   "execution_count": 1,
   "metadata": {},
   "outputs": [],
   "source": [
    "%matplotlib inline\n",
    "\n",
    "from mpl_toolkits.mplot3d import Axes3D\n",
    "import matplotlib.pyplot as plt\n",
    "import numpy as np\n",
    "from itertools import product, combinations\n",
    "global str\n"
   ]
  },
  {
   "cell_type": "code",
   "execution_count": 2,
   "metadata": {},
   "outputs": [],
   "source": [
    "import pandas as pd"
   ]
  },
  {
   "cell_type": "code",
   "execution_count": 3,
   "metadata": {},
   "outputs": [
    {
     "name": "stderr",
     "output_type": "stream",
     "text": [
      "/home/joshua/anaconda3/envs/PyTorch/lib/python3.6/site-packages/pandas/io/parsers.py:2379: FutureWarning: split() requires a non-empty pattern match.\n",
      "  yield pat.split(line.strip())\n",
      "/home/joshua/anaconda3/envs/PyTorch/lib/python3.6/site-packages/pandas/io/parsers.py:2381: FutureWarning: split() requires a non-empty pattern match.\n",
      "  yield pat.split(line.strip())\n"
     ]
    },
    {
     "data": {
      "text/html": [
       "<div>\n",
       "<style scoped>\n",
       "    .dataframe tbody tr th:only-of-type {\n",
       "        vertical-align: middle;\n",
       "    }\n",
       "\n",
       "    .dataframe tbody tr th {\n",
       "        vertical-align: top;\n",
       "    }\n",
       "\n",
       "    .dataframe thead th {\n",
       "        text-align: right;\n",
       "    }\n",
       "</style>\n",
       "<table border=\"1\" class=\"dataframe\">\n",
       "  <thead>\n",
       "    <tr style=\"text-align: right;\">\n",
       "      <th></th>\n",
       "      <th>Type</th>\n",
       "      <th>PW</th>\n",
       "      <th>PL</th>\n",
       "      <th>SW</th>\n",
       "      <th>SL</th>\n",
       "    </tr>\n",
       "  </thead>\n",
       "  <tbody>\n",
       "    <tr>\n",
       "      <th>0</th>\n",
       "      <td>Setosa</td>\n",
       "      <td>2</td>\n",
       "      <td>14</td>\n",
       "      <td>33</td>\n",
       "      <td>50</td>\n",
       "    </tr>\n",
       "    <tr>\n",
       "      <th>1</th>\n",
       "      <td>Verginica</td>\n",
       "      <td>24</td>\n",
       "      <td>56</td>\n",
       "      <td>31</td>\n",
       "      <td>67</td>\n",
       "    </tr>\n",
       "    <tr>\n",
       "      <th>2</th>\n",
       "      <td>Verginica</td>\n",
       "      <td>23</td>\n",
       "      <td>51</td>\n",
       "      <td>31</td>\n",
       "      <td>69</td>\n",
       "    </tr>\n",
       "    <tr>\n",
       "      <th>3</th>\n",
       "      <td>Setosa</td>\n",
       "      <td>2</td>\n",
       "      <td>10</td>\n",
       "      <td>36</td>\n",
       "      <td>46</td>\n",
       "    </tr>\n",
       "    <tr>\n",
       "      <th>4</th>\n",
       "      <td>Verginica</td>\n",
       "      <td>20</td>\n",
       "      <td>52</td>\n",
       "      <td>30</td>\n",
       "      <td>65</td>\n",
       "    </tr>\n",
       "  </tbody>\n",
       "</table>\n",
       "</div>"
      ],
      "text/plain": [
       "        Type  PW  PL  SW  SL\n",
       "0     Setosa   2  14  33  50\n",
       "1  Verginica  24  56  31  67\n",
       "2  Verginica  23  51  31  69\n",
       "3     Setosa   2  10  36  46\n",
       "4  Verginica  20  52  30  65"
      ]
     },
     "execution_count": 3,
     "metadata": {},
     "output_type": "execute_result"
    }
   ],
   "source": [
    "data = pd.read_csv('IRISdataSet.txt', sep=\"[\\t]*\",engine='python')\n",
    "data.head()"
   ]
  },
  {
   "cell_type": "code",
   "execution_count": 4,
   "metadata": {},
   "outputs": [
    {
     "data": {
      "text/plain": [
       "array(['Setosa', 'Verginica', 'Versicolor'], dtype=object)"
      ]
     },
     "execution_count": 4,
     "metadata": {},
     "output_type": "execute_result"
    }
   ],
   "source": [
    "data['Type'].unique()"
   ]
  },
  {
   "cell_type": "code",
   "execution_count": 5,
   "metadata": {},
   "outputs": [
    {
     "data": {
      "text/plain": [
       "array([ 2, 24, 23, 20, 19, 13, 16, 17, 14,  1, 12, 18, 10, 21,  4, 15, 11,\n",
       "       25,  3, 22,  5,  6])"
      ]
     },
     "execution_count": 5,
     "metadata": {},
     "output_type": "execute_result"
    }
   ],
   "source": [
    "data['PW'].unique()"
   ]
  },
  {
   "cell_type": "code",
   "execution_count": 6,
   "metadata": {},
   "outputs": [
    {
     "name": "stdout",
     "output_type": "stream",
     "text": [
      "[14 56 51 10 52 45 47 16 50 13 40 49 33 19 41 15 55 39 57 42 58 44 30 54\n",
      " 61 36 17 46 59 53 60 12 11 35 48 67 66 38 64 69 37 63 43]\n",
      "[33 31 36 30 27 28 25 32 26 23 38 29 34 24 42 22 37 35 41 39 20 40 44]\n",
      "[50 67 69 46 65 58 57 63 49 70 48 44 51 64 60 54 55 52 59 56 72 68 66 62\n",
      " 61 47 43 77 45 76 79 71 74 73 53]\n"
     ]
    }
   ],
   "source": [
    "print(data['PL'].unique())\n",
    "print(data['SW'].unique())\n",
    "print(data['SL'].unique())"
   ]
  },
  {
   "cell_type": "code",
   "execution_count": 7,
   "metadata": {},
   "outputs": [],
   "source": [
    "A = np.array(data['Type'])\n",
    "B = np.array(data['PW'])\n",
    "C = np.array(data['PL'])\n",
    "D = np.array(data['SW'])\n",
    "E = np.array(data['SL'])"
   ]
  },
  {
   "cell_type": "code",
   "execution_count": 8,
   "metadata": {},
   "outputs": [
    {
     "data": {
      "text/plain": [
       "(150,)"
      ]
     },
     "execution_count": 8,
     "metadata": {},
     "output_type": "execute_result"
    }
   ],
   "source": [
    "A.shape"
   ]
  },
  {
   "cell_type": "code",
   "execution_count": 9,
   "metadata": {},
   "outputs": [],
   "source": [
    "A_data = A[0:int(A.shape[0] / 2)]\n",
    "A_test = A[int(A.shape[0] / 2):]\n",
    "B_data = B[0:int(A.shape[0] / 2)]\n",
    "B_test = B[int(A.shape[0] / 2):]\n",
    "C_data = C[0:int(A.shape[0] / 2)]\n",
    "C_test = C[int(A.shape[0] / 2):]\n",
    "D_data = D[0:int(A.shape[0] / 2)]\n",
    "D_test = D[int(A.shape[0] / 2):]\n",
    "E_data = E[0:int(A.shape[0] / 2)]\n",
    "E_test = E[int(A.shape[0] / 2):]"
   ]
  },
  {
   "cell_type": "code",
   "execution_count": 10,
   "metadata": {},
   "outputs": [],
   "source": [
    "set_row = np.where(A_data == 'Setosa')[0]\n",
    "ver_row = np.where(A_data == 'Versicolor')[0]\n",
    "vir_row = np.where(A_data == 'Verginica')[0]"
   ]
  },
  {
   "cell_type": "code",
   "execution_count": 11,
   "metadata": {},
   "outputs": [
    {
     "data": {
      "text/plain": [
       "(24,)"
      ]
     },
     "execution_count": 11,
     "metadata": {},
     "output_type": "execute_result"
    }
   ],
   "source": [
    "ver_row = np.where(A_data == 'Versicolor')[0]\n",
    "ver_row.shape"
   ]
  },
  {
   "cell_type": "code",
   "execution_count": 12,
   "metadata": {},
   "outputs": [
    {
     "data": {
      "text/plain": [
       "array(['Setosa', 'Verginica', 'Versicolor'], dtype=object)"
      ]
     },
     "execution_count": 12,
     "metadata": {},
     "output_type": "execute_result"
    }
   ],
   "source": [
    "np.unique(A_data)"
   ]
  },
  {
   "cell_type": "code",
   "execution_count": 13,
   "metadata": {},
   "outputs": [],
   "source": [
    "B_set = np.zeros_like(set_row)"
   ]
  },
  {
   "cell_type": "code",
   "execution_count": 14,
   "metadata": {},
   "outputs": [
    {
     "data": {
      "text/plain": [
       "array([2, 2, 2, 1, 2, 2, 2, 4, 2, 2, 4, 2, 2, 1, 3, 4, 2, 2, 2, 2, 1, 2,\n",
       "       4])"
      ]
     },
     "execution_count": 14,
     "metadata": {},
     "output_type": "execute_result"
    }
   ],
   "source": [
    "B_Set = B_data[set_row]\n",
    "B_Set"
   ]
  },
  {
   "cell_type": "code",
   "execution_count": 15,
   "metadata": {},
   "outputs": [
    {
     "data": {
      "text/plain": [
       "array([ 0,  3, 10, 12, 13, 17, 18, 20, 21, 24, 26, 29, 32, 45, 46, 48, 58,\n",
       "       64, 65, 68, 69, 71, 72])"
      ]
     },
     "execution_count": 15,
     "metadata": {},
     "output_type": "execute_result"
    }
   ],
   "source": [
    "set_row"
   ]
  },
  {
   "cell_type": "code",
   "execution_count": 16,
   "metadata": {},
   "outputs": [],
   "source": [
    "B_set = np.zeros_like(set_row)"
   ]
  },
  {
   "cell_type": "code",
   "execution_count": 17,
   "metadata": {},
   "outputs": [
    {
     "data": {
      "text/plain": [
       "(23,)"
      ]
     },
     "execution_count": 17,
     "metadata": {},
     "output_type": "execute_result"
    }
   ],
   "source": [
    "B_set.shape"
   ]
  },
  {
   "cell_type": "code",
   "execution_count": 18,
   "metadata": {},
   "outputs": [
    {
     "data": {
      "text/plain": [
       "array([2, 2, 2, 1, 2, 2, 2, 4, 2, 2, 4, 2, 2, 1, 3, 4, 2, 2, 2, 2, 1, 2,\n",
       "       4])"
      ]
     },
     "execution_count": 18,
     "metadata": {},
     "output_type": "execute_result"
    }
   ],
   "source": [
    "B_data[set_row]"
   ]
  },
  {
   "cell_type": "code",
   "execution_count": 19,
   "metadata": {},
   "outputs": [],
   "source": [
    "def get_features(set_row,ver_row,vir_row,B_data,C_data,D_data,E_data):\n",
    "    B_set = B_data[set_row]\n",
    "    B_ver = B_data[ver_row]\n",
    "    B_vir = B_data[vir_row]\n",
    "    C_set = C_data[set_row]\n",
    "    C_ver = C_data[ver_row]\n",
    "    C_vir = C_data[vir_row]\n",
    "    D_set = D_data[set_row]\n",
    "    D_ver = D_data[ver_row]\n",
    "    D_vir = D_data[vir_row]\n",
    "    E_set = E_data[set_row]\n",
    "    E_ver = E_data[ver_row]\n",
    "    E_vir = E_data[vir_row]\n",
    "    return B_set,B_ver,B_vir,C_set,C_ver,C_vir,D_set,D_ver,D_vir,E_set,E_ver,E_vir"
   ]
  },
  {
   "cell_type": "code",
   "execution_count": 20,
   "metadata": {},
   "outputs": [
    {
     "data": {
      "text/plain": [
       "(23,)"
      ]
     },
     "execution_count": 20,
     "metadata": {},
     "output_type": "execute_result"
    }
   ],
   "source": [
    "B_set,B_ver,B_vir,C_set,C_ver,C_vir,D_set,D_ver,D_vir,E_set,E_ver,E_vir = get_features(set_row,ver_row,vir_row,B_data,C_data,D_data,E_data)\n",
    "B_set.shape"
   ]
  },
  {
   "cell_type": "code",
   "execution_count": 21,
   "metadata": {},
   "outputs": [
    {
     "data": {
      "text/plain": [
       "2.260869565217391"
      ]
     },
     "execution_count": 21,
     "metadata": {},
     "output_type": "execute_result"
    }
   ],
   "source": [
    "np.mean(B_set)"
   ]
  },
  {
   "cell_type": "code",
   "execution_count": 102,
   "metadata": {},
   "outputs": [
    {
     "name": "stdout",
     "output_type": "stream",
     "text": [
      "[ 2.26086957 14.34782609 33.82608696 49.43478261]\n",
      "[13.25       41.79166667 27.66666667 59.20833333]\n",
      "[20.35714286 53.85714286 29.57142857 64.46428571]\n"
     ]
    }
   ],
   "source": [
    "set_mean = np.array([np.mean(B_set), np.mean(C_set), np.mean(D_set), np.mean(E_set)])\n",
    "ver_mean = np.array([np.mean(B_ver), np.mean(C_ver), np.mean(D_ver), np.mean(E_ver)])\n",
    "vir_mean = np.array([np.mean(B_vir), np.mean(C_vir), np.mean(D_vir), np.mean(E_vir)])\n",
    "print(set_mean)\n",
    "print(ver_mean)\n",
    "print(vir_mean)"
   ]
  },
  {
   "cell_type": "code",
   "execution_count": 23,
   "metadata": {
    "scrolled": false
   },
   "outputs": [
    {
     "data": {
      "text/plain": [
       "array([[ 0.83794466,  0.99604743,  1.13833992,  1.47233202],\n",
       "       [ 0.99604743,  3.87351779,  1.79051383,  3.25098814],\n",
       "       [ 1.13833992,  1.79051383, 11.87747036,  8.66996047],\n",
       "       [ 1.47233202,  3.25098814,  8.66996047, 13.80237154]])"
      ]
     },
     "execution_count": 23,
     "metadata": {},
     "output_type": "execute_result"
    }
   ],
   "source": [
    "set_cov = np.cov(np.vstack([B_set,C_set, D_set, E_set]))\n",
    "ver_cov = np.cov(np.vstack([B_ver,C_ver, D_ver, E_ver]))\n",
    "vir_cov = np.cov(np.vstack([B_vir,C_vir, D_vir, E_vir]))\n",
    "np.cov(np.vstack([B_set,C_set, D_set, E_set]))"
   ]
  },
  {
   "cell_type": "code",
   "execution_count": 24,
   "metadata": {},
   "outputs": [
    {
     "data": {
      "text/plain": [
       "(array([24, 23, 20, 19, 17, 19, 18, 21, 19, 18, 15, 23, 20, 18, 21, 25, 21,\n",
       "        22, 15, 23, 23, 25, 18, 23, 21, 18, 18, 23]),\n",
       " array([56, 51, 52, 51, 45, 50, 49, 56, 51, 55, 50, 57, 49, 58, 54, 61, 55,\n",
       "        56, 51, 59, 54, 57, 51, 53, 57, 60, 49, 61]),\n",
       " array([31, 31, 30, 27, 25, 25, 27, 28, 27, 31, 22, 32, 28, 25, 31, 36, 30,\n",
       "        28, 28, 32, 34, 33, 30, 32, 33, 32, 30, 30]),\n",
       " array([67, 69, 65, 58, 49, 63, 63, 64, 58, 64, 60, 69, 56, 67, 69, 72, 68,\n",
       "        64, 63, 68, 62, 67, 59, 64, 67, 72, 61, 77]))"
      ]
     },
     "execution_count": 24,
     "metadata": {},
     "output_type": "execute_result"
    }
   ],
   "source": [
    "B_vir,C_vir, D_vir, E_vir"
   ]
  },
  {
   "cell_type": "code",
   "execution_count": 25,
   "metadata": {},
   "outputs": [
    {
     "data": {
      "text/plain": [
       "23"
      ]
     },
     "execution_count": 25,
     "metadata": {},
     "output_type": "execute_result"
    }
   ],
   "source": [
    "np.size(set_row)"
   ]
  },
  {
   "cell_type": "code",
   "execution_count": 26,
   "metadata": {},
   "outputs": [],
   "source": [
    "p_set = np.size(set_row)/75\n",
    "p_ver = np.size(ver_row)/75\n",
    "p_vir = np.size(vir_row)/75"
   ]
  },
  {
   "cell_type": "code",
   "execution_count": 27,
   "metadata": {},
   "outputs": [
    {
     "data": {
      "text/plain": [
       "0.30666666666666664"
      ]
     },
     "execution_count": 27,
     "metadata": {},
     "output_type": "execute_result"
    }
   ],
   "source": [
    "p_set"
   ]
  },
  {
   "cell_type": "code",
   "execution_count": 28,
   "metadata": {},
   "outputs": [
    {
     "data": {
      "text/plain": [
       "array([ 1,  4,  5,  8, 10, 12, 13, 16, 20, 21, 23, 26, 30, 36, 38, 41, 42,\n",
       "       44, 47, 48, 56, 58, 60, 66, 69, 72, 74])"
      ]
     },
     "execution_count": 28,
     "metadata": {},
     "output_type": "execute_result"
    }
   ],
   "source": [
    "set_row_test = np.where(A_test == 'Setosa')[0]\n",
    "ver_row_test = np.where(A_test == 'Versicolor')[0]\n",
    "vir_row_test = np.where(A_test == 'Verginica')[0]\n",
    "set_row_test"
   ]
  },
  {
   "cell_type": "code",
   "execution_count": 29,
   "metadata": {},
   "outputs": [],
   "source": [
    "A_test_new = np.zeros((75,))"
   ]
  },
  {
   "cell_type": "code",
   "execution_count": 30,
   "metadata": {},
   "outputs": [
    {
     "data": {
      "text/plain": [
       "array([2., 1., 3., 2., 1., 1., 2., 2., 1., 2., 1., 2., 1., 1., 2., 2., 1.,\n",
       "       3., 2., 2., 1., 1., 2., 1., 3., 2., 1., 2., 2., 3., 1., 3., 3., 3.,\n",
       "       2., 2., 1., 3., 1., 3., 2., 1., 1., 3., 1., 3., 2., 1., 1., 3., 3.,\n",
       "       3., 3., 2., 3., 2., 1., 2., 1., 3., 1., 3., 2., 2., 2., 3., 1., 2.,\n",
       "       3., 1., 3., 2., 1., 3., 1.])"
      ]
     },
     "execution_count": 30,
     "metadata": {},
     "output_type": "execute_result"
    }
   ],
   "source": [
    "A_test_new[set_row_test]  = 1\n",
    "A_test_new[ver_row_test]  = 2\n",
    "A_test_new[vir_row_test]  = 3\n",
    "A_test_new"
   ]
  },
  {
   "cell_type": "markdown",
   "metadata": {},
   "source": [
    "# problem a"
   ]
  },
  {
   "cell_type": "code",
   "execution_count": 31,
   "metadata": {},
   "outputs": [
    {
     "data": {
      "text/plain": [
       "array([[ 4.30473472,  5.56744638,  3.72811622,  5.77014625],\n",
       "       [ 5.56744638, 16.42468421,  5.91061756, 15.59511697],\n",
       "       [ 3.72811622,  5.91061756, 10.5193899 ,  9.26741187],\n",
       "       [ 5.77014625, 15.59511697,  9.26741187, 25.73930558]])"
      ]
     },
     "execution_count": 31,
     "metadata": {},
     "output_type": "execute_result"
    }
   ],
   "source": [
    "cov = (set_cov + ver_cov + vir_cov)/3\n",
    "cov"
   ]
  },
  {
   "cell_type": "code",
   "execution_count": 32,
   "metadata": {},
   "outputs": [],
   "source": [
    "from sympy import symbols\n",
    "from sympy import Matrix\n",
    "import sympy"
   ]
  },
  {
   "cell_type": "code",
   "execution_count": 33,
   "metadata": {},
   "outputs": [],
   "source": [
    "def decision_boundaries(mu,cov,pwi,x):\n",
    "    W1 = -0.5 * np.linalg.inv(cov)\n",
    "    w1 = np.linalg.inv(cov) @ mu\n",
    "    w10 = -0.5 * mu.T @ np.linalg.inv(cov) @ mu - \\\n",
    "            -0.5 * np.log(np.linalg.det(cov)) + np.log(pwi)\n",
    "    g = x.T * Matrix(W1) * x + Matrix(w1[:,np.newaxis].T) * x + Matrix([w10])\n",
    "    return g"
   ]
  },
  {
   "cell_type": "code",
   "execution_count": 34,
   "metadata": {},
   "outputs": [],
   "source": [
    "x1, x2, x3, x4 = symbols('x1, x2, x3, x4')\n",
    "X1 = Matrix([x1, x2, x3, x4])"
   ]
  },
  {
   "cell_type": "code",
   "execution_count": 63,
   "metadata": {},
   "outputs": [],
   "source": [
    "g_set1 = decision_boundaries(set_mean,cov,p_set,X1)\n",
    "g_ver1 = decision_boundaries(ver_mean,cov,p_ver,X1)\n",
    "g1 = g_set1 - g_ver1  \n",
    "\n",
    "g_set2 = decision_boundaries(set_mean,cov,p_set,X1)\n",
    "g_vir1 = decision_boundaries(vir_mean,cov,p_vir,X1)\n",
    "g2 = g_set2 - g_vir1\n",
    "\n",
    "g_ver2 = decision_boundaries(ver_mean,cov,p_ver,X1)\n",
    "g_vir2 = decision_boundaries(vir_mean,cov,p_vir,X1)\n",
    "g3 = g_ver2 - g_vir2\n",
    "error = 0"
   ]
  },
  {
   "cell_type": "code",
   "execution_count": 64,
   "metadata": {},
   "outputs": [
    {
     "data": {
      "text/plain": [
       "Matrix([[x1*(-0.243249872662931*x1 + 0.069983647527399*x2 + 0.0530186903886203*x3 - 0.00696063335493801*x4) - 3.80694880898707*x1 + x2*(0.0699836475273989*x1 - 0.0919360601901596*x2 - 0.0122985447461029*x3 + 0.044442279423805*x4) - 1.24024814791916*x2 + x3*(0.0530186903886203*x1 - 0.0122985447461028*x2 - 0.0812895848980979*x3 + 0.0248342251565159*x4) + 3.15724616641455*x3 + x4*(-0.00696063335493801*x1 + 0.044442279423805*x2 + 0.0248342251565159*x3 - 0.0537336822203196*x4) + 2.38871045542044*x4 - 96.4819316002507]])"
      ]
     },
     "execution_count": 64,
     "metadata": {},
     "output_type": "execute_result"
    }
   ],
   "source": [
    "g_set1"
   ]
  },
  {
   "cell_type": "code",
   "execution_count": 65,
   "metadata": {},
   "outputs": [
    {
     "data": {
      "text/plain": [
       "-53.6229888252528"
      ]
     },
     "execution_count": 65,
     "metadata": {},
     "output_type": "execute_result"
    }
   ],
   "source": [
    "i = 0\n",
    "g1.subs([(x1, B_test[i]),(x2, C_test[i]),(x3, D_test[i]),(x4, E_test[i])])[0]"
   ]
  },
  {
   "cell_type": "code",
   "execution_count": 66,
   "metadata": {},
   "outputs": [],
   "source": [
    "f = open('Result_a.txt','a+')\n",
    "for i in range(A_test.shape[0]):\n",
    "    J1 = g1.subs([(x1, B_test[i]),(x2, C_test[i]),(x3, D_test[i]),(x4, E_test[i])])[0]\n",
    "    J2 = g2.subs([(x1, B_test[i]),(x2, C_test[i]),(x3, D_test[i]),(x4, E_test[i])])[0]\n",
    "    J3 = g3.subs([(x1, B_test[i]),(x2, C_test[i]),(x3, D_test[i]),(x4, E_test[i])])[0]\n",
    "    if J1>0 and J2>0:\n",
    "        s = str(i+1)+ ' belong to set \\n'\n",
    "        num = 1\n",
    "        f.write(s)\n",
    "    elif J1<0 and J3>0:\n",
    "        s = str(i+1)+ ' belong to ver \\n'\n",
    "        num = 2\n",
    "        f.write(s)\n",
    "    elif J2<0 and J3<0:\n",
    "        s = str(i+1)+ ' belong to vir \\n'\n",
    "        num = 3\n",
    "        f.write(s)\n",
    "    \n",
    "    if num != A_test_new[i]:\n",
    "        error = error + 1\n",
    "    \n",
    "p_error = error / A_test.shape[0]\n",
    "s = '--------------number of misclassified points:' + str(error) + '\\n'\n",
    "f.write(s)\n",
    "s = '--------------misclassify probability:' + str(p_error) + '\\n'\n",
    "f.write(s)\n",
    "f.close()"
   ]
  },
  {
   "cell_type": "code",
   "execution_count": 48,
   "metadata": {},
   "outputs": [
    {
     "data": {
      "text/plain": [
       "array([2., 1., 3., 2., 1., 1., 2., 2., 1., 2., 1., 2., 1., 1., 2., 2., 1.,\n",
       "       3., 2., 2., 1., 1., 2., 1., 3., 2., 1., 2., 2., 3., 1., 3., 3., 3.,\n",
       "       2., 2., 1., 3., 1., 3., 2., 1., 1., 3., 1., 3., 2., 1., 1., 3., 3.,\n",
       "       3., 3., 2., 3., 2., 1., 2., 1., 3., 1., 3., 2., 2., 2., 3., 1., 2.,\n",
       "       3., 1., 3., 2., 1., 3., 1.])"
      ]
     },
     "execution_count": 48,
     "metadata": {},
     "output_type": "execute_result"
    }
   ],
   "source": [
    "A_test_new"
   ]
  },
  {
   "cell_type": "markdown",
   "metadata": {},
   "source": [
    "# problem b"
   ]
  },
  {
   "cell_type": "code",
   "execution_count": 67,
   "metadata": {},
   "outputs": [],
   "source": [
    "f = open('Result_b.txt','a+')\n",
    "\n",
    "g_set1 = decision_boundaries(set_mean,set_cov,p_set,X1)\n",
    "g_ver1 = decision_boundaries(ver_mean,ver_cov,p_ver,X1)\n",
    "g1 = g_set1 - g_ver1       \n",
    "g_set2 = decision_boundaries(set_mean,set_cov,p_set,X1)\n",
    "g_vir1 = decision_boundaries(vir_mean,vir_cov,p_vir,X1)\n",
    "g2 = g_set2 - g_vir1\n",
    "g_ver2 = decision_boundaries(ver_mean,ver_cov,p_ver,X1)\n",
    "g_vir2 = decision_boundaries(vir_mean,vir_cov,p_vir,X1)\n",
    "g3 = g_ver2 - g_vir2\n",
    "error = 0\n",
    "# f = open('Result_a.txt','a+')\n",
    "for i in range(A_test.shape[0]):\n",
    "    J1 = g1.subs([(x1, B_test[i]),(x2, C_test[i]),(x3, D_test[i]),(x4, E_test[i])])[0]\n",
    "    J2 = g2.subs([(x1, B_test[i]),(x2, C_test[i]),(x3, D_test[i]),(x4, E_test[i])])[0]\n",
    "    J3 = g3.subs([(x1, B_test[i]),(x2, C_test[i]),(x3, D_test[i]),(x4, E_test[i])])[0]\n",
    "    if J1>0 and J2>0:\n",
    "        s = str(i+1)+ ' belong to set \\n'\n",
    "        num = 1\n",
    "        f.write(s)\n",
    "    elif J1<0 and J3>0:\n",
    "        s = str(i+1)+ ' belong to ver \\n'\n",
    "        num = 2\n",
    "        f.write(s)\n",
    "    elif J2<0 and J3<0:\n",
    "        s = str(i+1)+ ' belong to vir \\n'\n",
    "        num = 3\n",
    "        f.write(s)\n",
    "    \n",
    "    if num != A_test_new[i]:\n",
    "        error = error + 1\n",
    "    \n",
    "p_error = error / A_test.shape[0]\n",
    "s = '--------------number of misclassified points:' + str(error) + '\\n'\n",
    "f.write(s)\n",
    "s = '--------------misclassify probability:' + str(p_error) + '\\n'\n",
    "f.write(s)\n",
    "f.close()"
   ]
  },
  {
   "cell_type": "markdown",
   "metadata": {},
   "source": [
    "# problem c"
   ]
  },
  {
   "cell_type": "code",
   "execution_count": 97,
   "metadata": {},
   "outputs": [],
   "source": [
    "def parzen(w,h,x):\n",
    "    num_class = len(w)\n",
    "    r=np.zeros((num_class))\n",
    "    for i in range(num_class):\n",
    "      hn=h\n",
    "      rows, _ = w[i].shape\n",
    "      for j in range(rows):\n",
    "          hn=hn/np.sqrt(j+1)\n",
    "          r[i]=r[i]+np.exp( -np.dot((x-w[i][j,:]), (x-w[i][j,:])) / (2*hn**2)) / (np.sqrt(2*np.pi)*hn)\n",
    "      r[i]=r[i]/rows\n",
    "    return r"
   ]
  },
  {
   "cell_type": "code",
   "execution_count": 79,
   "metadata": {},
   "outputs": [
    {
     "data": {
      "text/plain": [
       "array([[ 59.74222222,   0.        ,   0.        ,   0.        ],\n",
       "       [  0.        , 285.97226667,   0.        ,   0.        ],\n",
       "       [  0.        ,   0.        ,  16.27555556,   0.        ],\n",
       "       [  0.        ,   0.        ,   0.        ,  63.71662222]])"
      ]
     },
     "execution_count": 79,
     "metadata": {},
     "output_type": "execute_result"
    }
   ],
   "source": [
    "f = open('Result_c.txt','a+')\n",
    "B_var = np.var(B_data)\n",
    "C_var = np.var(C_data)\n",
    "D_var = np.var(D_data)\n",
    "E_var = np.var(E_data)\n",
    "cov = np.diag([B_var,C_var,D_var,E_var])\n",
    "cov"
   ]
  },
  {
   "cell_type": "code",
   "execution_count": 73,
   "metadata": {},
   "outputs": [
    {
     "data": {
      "text/plain": [
       "(4, 1)"
      ]
     },
     "execution_count": 73,
     "metadata": {},
     "output_type": "execute_result"
    }
   ],
   "source": [
    "np.vstack([B_np,C_np,D_np,E_np]).shape"
   ]
  },
  {
   "cell_type": "code",
   "execution_count": 76,
   "metadata": {},
   "outputs": [
    {
     "data": {
      "text/plain": [
       "59.74222222222222"
      ]
     },
     "execution_count": 76,
     "metadata": {},
     "output_type": "execute_result"
    }
   ],
   "source": [
    "B_var"
   ]
  },
  {
   "cell_type": "code",
   "execution_count": 85,
   "metadata": {},
   "outputs": [
    {
     "data": {
      "text/plain": [
       "(23, 4)"
      ]
     },
     "execution_count": 85,
     "metadata": {},
     "output_type": "execute_result"
    }
   ],
   "source": [
    "h = 10.0\n",
    "w1 = np.vstack([B_set, C_set, D_set, E_set]).T\n",
    "w1.shape"
   ]
  },
  {
   "cell_type": "code",
   "execution_count": 87,
   "metadata": {},
   "outputs": [
    {
     "data": {
      "text/plain": [
       "(24, 4)"
      ]
     },
     "execution_count": 87,
     "metadata": {},
     "output_type": "execute_result"
    }
   ],
   "source": [
    "w2 = np.vstack([B_ver, C_ver, D_ver, E_ver]).T\n",
    "w2.shape"
   ]
  },
  {
   "cell_type": "code",
   "execution_count": 88,
   "metadata": {},
   "outputs": [
    {
     "data": {
      "text/plain": [
       "(28, 4)"
      ]
     },
     "execution_count": 88,
     "metadata": {},
     "output_type": "execute_result"
    }
   ],
   "source": [
    "w3 = np.vstack([B_vir, C_vir, D_vir, E_vir]).T\n",
    "w3.shape"
   ]
  },
  {
   "cell_type": "code",
   "execution_count": 90,
   "metadata": {},
   "outputs": [
    {
     "data": {
      "text/plain": [
       "(23, 4)"
      ]
     },
     "execution_count": 90,
     "metadata": {},
     "output_type": "execute_result"
    }
   ],
   "source": [
    "X = [w1, w2, w3]\n",
    "X[0].shape"
   ]
  },
  {
   "cell_type": "code",
   "execution_count": 92,
   "metadata": {},
   "outputs": [
    {
     "data": {
      "text/plain": [
       "(75, 4)"
      ]
     },
     "execution_count": 92,
     "metadata": {},
     "output_type": "execute_result"
    }
   ],
   "source": [
    "test = np.vstack([B_test, C_test, D_test, E_test]).T\n",
    "test.shape"
   ]
  },
  {
   "cell_type": "code",
   "execution_count": 101,
   "metadata": {},
   "outputs": [],
   "source": [
    "error = 0\n",
    "for i in range(A_test.shape[0]):\n",
    "    r=parzen(X,h,test[i,:])\n",
    "    num=np.where(r==np.max(r))[0] + 1\n",
    "    if num == 1:\n",
    "        s = str(i+1)+ ' belong to set \\n'\n",
    "        f.write(s)\n",
    "    elif num == 2:\n",
    "        s = str(i+1)+ ' belong to ver \\n'\n",
    "        f.write(s)\n",
    "    elif num == 3:\n",
    "        s = str(i+1)+ ' belong to vir \\n'\n",
    "        f.write(s)\n",
    "\n",
    "    if num != A_test_new[i]:\n",
    "        error = error + 1\n",
    "p_error = error / A_test.shape[0]\n",
    "s = '--------------number of misclassified points:' + str(error) + '\\n'\n",
    "f.write(s)\n",
    "s = '--------------misclassify probability:' + str(p_error) + '\\n'\n",
    "f.write(s)\n",
    "f.close()"
   ]
  },
  {
   "cell_type": "code",
   "execution_count": 95,
   "metadata": {},
   "outputs": [
    {
     "data": {
      "text/plain": [
       "75"
      ]
     },
     "execution_count": 95,
     "metadata": {},
     "output_type": "execute_result"
    }
   ],
   "source": [
    "A_test.shape[0]"
   ]
  },
  {
   "cell_type": "code",
   "execution_count": null,
   "metadata": {},
   "outputs": [],
   "source": []
  }
 ],
 "metadata": {
  "kernelspec": {
   "display_name": "Python 3",
   "language": "python",
   "name": "python3"
  },
  "language_info": {
   "codemirror_mode": {
    "name": "ipython",
    "version": 3
   },
   "file_extension": ".py",
   "mimetype": "text/x-python",
   "name": "python",
   "nbconvert_exporter": "python",
   "pygments_lexer": "ipython3",
   "version": "3.6.8"
  }
 },
 "nbformat": 4,
 "nbformat_minor": 2
}
