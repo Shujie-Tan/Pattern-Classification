{
 "cells": [
  {
   "cell_type": "code",
   "execution_count": 1,
   "metadata": {},
   "outputs": [
    {
     "data": {
      "text/plain": [
       "'/home/joshua/anaconda3/envs/PyTorch/bin/python'"
      ]
     },
     "execution_count": 1,
     "metadata": {},
     "output_type": "execute_result"
    }
   ],
   "source": [
    "import sys\n",
    "sys.executable"
   ]
  },
  {
   "cell_type": "code",
   "execution_count": 2,
   "metadata": {},
   "outputs": [],
   "source": [
    "import numpy as np\n",
    "import matplotlib.pyplot as plt\n",
    "%matplotlib inline"
   ]
  },
  {
   "cell_type": "code",
   "execution_count": 93,
   "metadata": {},
   "outputs": [],
   "source": [
    "Y = np.random.rand(100, 10)"
   ]
  },
  {
   "cell_type": "code",
   "execution_count": 27,
   "metadata": {},
   "outputs": [
    {
     "data": {
      "text/plain": [
       "(10,)"
      ]
     },
     "execution_count": 27,
     "metadata": {},
     "output_type": "execute_result"
    }
   ],
   "source": [
    "mu = np.mean(Y, axis = 0)\n",
    "mu.shape"
   ]
  },
  {
   "cell_type": "code",
   "execution_count": 28,
   "metadata": {},
   "outputs": [
    {
     "data": {
      "text/plain": [
       "(100, 10)"
      ]
     },
     "execution_count": 28,
     "metadata": {},
     "output_type": "execute_result"
    }
   ],
   "source": [
    "YC = Y - mu\n",
    "YC.shape"
   ]
  },
  {
   "cell_type": "code",
   "execution_count": 95,
   "metadata": {},
   "outputs": [],
   "source": [
    "S1 = YC @ YC.T"
   ]
  },
  {
   "cell_type": "code",
   "execution_count": 97,
   "metadata": {},
   "outputs": [
    {
     "data": {
      "text/plain": [
       "array([[ 0.        , -0.00303148, -0.01521311, ...,  0.08080239,\n",
       "         0.16803024, -0.12045921],\n",
       "       [ 0.08478053,  0.16634877, -0.06372749, ...,  0.10321607,\n",
       "        -0.05226445,  0.1632506 ],\n",
       "       [ 0.04663058, -0.00903322,  0.15788942, ...,  0.05179261,\n",
       "         0.03279209, -0.05262335],\n",
       "       ...,\n",
       "       [-0.03977158, -0.00055669, -0.01334781, ..., -0.00946371,\n",
       "        -0.09907111, -0.01584245],\n",
       "       [-0.0531607 ,  0.03182061, -0.07879587, ..., -0.05882959,\n",
       "        -0.01219975, -0.0358463 ],\n",
       "       [ 0.03552775, -0.0102358 , -0.03796184, ..., -0.25666014,\n",
       "        -0.05053933, -0.0730303 ]])"
      ]
     },
     "execution_count": 97,
     "metadata": {},
     "output_type": "execute_result"
    }
   ],
   "source": [
    "v1, L1 = np.linalg.eigh(S1)\n",
    "V1 = np.diag(v1)\n",
    "L1"
   ]
  },
  {
   "cell_type": "code",
   "execution_count": 55,
   "metadata": {
    "scrolled": true
   },
   "outputs": [
    {
     "data": {
      "text/plain": [
       "(10, 10)"
      ]
     },
     "execution_count": 55,
     "metadata": {},
     "output_type": "execute_result"
    }
   ],
   "source": [
    "S2 = YC.T @ YC\n",
    "S2"
   ]
  },
  {
   "cell_type": "code",
   "execution_count": 101,
   "metadata": {},
   "outputs": [
    {
     "data": {
      "text/plain": [
       "array([[ 0.28588887,  0.58512644, -0.11067913,  0.07273579,  0.09524833,\n",
       "        -0.18196544,  0.09871912,  0.47321246,  0.52785898, -0.06212867],\n",
       "       [-0.46128375, -0.31805364,  0.14436309, -0.33787849, -0.41228874,\n",
       "        -0.0535433 , -0.02238014,  0.26671754,  0.5219733 ,  0.18469564],\n",
       "       [ 0.43606027, -0.47969976,  0.47083211,  0.07513904,  0.10117071,\n",
       "         0.04351602, -0.16766506,  0.46674653, -0.04218891, -0.30420038],\n",
       "       [ 0.11908872, -0.19543543,  0.12344044, -0.37880471,  0.54253397,\n",
       "        -0.39719959,  0.43517535, -0.05150762,  0.00496471,  0.38042927],\n",
       "       [-0.45061167,  0.02426858,  0.11878544,  0.05580406,  0.28004709,\n",
       "        -0.49332374, -0.1046246 , -0.14768596,  0.08977618, -0.64538685]])"
      ]
     },
     "execution_count": 101,
     "metadata": {},
     "output_type": "execute_result"
    }
   ],
   "source": [
    "v2, L2 = np.linalg.eigh(S2)\n",
    "V2 = np.diag(v2)\n",
    "L2[0:5]"
   ]
  },
  {
   "cell_type": "code",
   "execution_count": 64,
   "metadata": {},
   "outputs": [
    {
     "data": {
      "text/plain": [
       "[<matplotlib.lines.Line2D at 0x7f6082338fd0>,\n",
       " <matplotlib.lines.Line2D at 0x7f6082341160>]"
      ]
     },
     "execution_count": 64,
     "metadata": {},
     "output_type": "execute_result"
    },
    {
     "data": {
      "image/png": "[encoded data removed]",
      "text/plain": [
       "<Figure size 432x288 with 1 Axes>"
      ]
     },
     "metadata": {
      "needs_background": "light"
     },
     "output_type": "display_data"
    }
   ],
   "source": [
    "x1 = list(range(100))\n",
    "x2 = list(range(10))\n",
    "plt.plot(x1, v1[::-1], x2, v2[::-1])"
   ]
  },
  {
   "cell_type": "code",
   "execution_count": 80,
   "metadata": {},
   "outputs": [],
   "source": [
    "# reverse order\n",
    "v1 = v1[::-1]\n",
    "v2 = v2[::-1]\n",
    "L1 = L1[:, ::-1]\n",
    "L2 = L2[:,::-1]"
   ]
  },
  {
   "cell_type": "code",
   "execution_count": 84,
   "metadata": {},
   "outputs": [
    {
     "data": {
      "text/plain": [
       "array([-3.46933684, -3.46933684, -3.46933684, -3.46933684, -3.46933684,\n",
       "       -3.46933684, -3.46933684, -3.46933684, -3.46933684, -3.46933684,\n",
       "       -3.46933684, -3.46933684, -3.46933684, -3.46933684, -3.46933684,\n",
       "       -3.46933684, -3.46933684, -3.46933684, -3.46933684, -3.46933684,\n",
       "       -3.46933684, -3.46933684, -3.46933684, -3.46933684, -3.46933684,\n",
       "       -3.46933684, -3.46933684, -3.46933684, -3.46933684, -3.46933684,\n",
       "       -3.46933684, -3.46933684, -3.46933684, -3.46933684, -3.46933684,\n",
       "       -3.46933684, -3.46933684, -3.46933684, -3.46933684, -3.46933684,\n",
       "       -3.46933684, -3.46933684, -3.46933684, -3.46933684, -3.46933684,\n",
       "       -3.46933684, -3.46933684, -3.46933684, -3.46933684, -3.46933684,\n",
       "       -3.46933684, -3.46933684, -3.46933684, -3.46933684, -3.46933684,\n",
       "       -3.46933684, -3.46933684, -3.46933684, -3.46933684, -3.46933684,\n",
       "       -3.46933684, -3.46933684, -3.46933684, -3.46933684, -3.46933684,\n",
       "       -3.46933684, -3.46933684, -3.46933684, -3.46933684, -3.46933684,\n",
       "       -3.46933684, -3.46933684, -3.46933684, -3.46933684, -3.46933684,\n",
       "       -3.46933684, -3.46933684, -3.46933684, -3.46933684, -3.46933684,\n",
       "       -3.46933684, -3.46933684, -3.46933684, -3.46933684, -3.46933684,\n",
       "       -3.46933684, -3.46933684, -3.46933684, -3.46933684, -3.46933684,\n",
       "       -3.46933684, -3.46933684, -3.46933684, -3.46933684, -3.46933684,\n",
       "       -3.46933684, -3.46933684, -3.46933684, -3.46933684, -3.46933684])"
      ]
     },
     "execution_count": 84,
     "metadata": {},
     "output_type": "execute_result"
    }
   ],
   "source": [
    "r1 = YC @ L2[:,0] / np.linalg.norm(L2[:,0])\n",
    "r2 = L1[:,0]\n",
    "r1 / r2"
   ]
  },
  {
   "cell_type": "code",
   "execution_count": 87,
   "metadata": {},
   "outputs": [
    {
     "data": {
      "text/plain": [
       "12.036298105345681"
      ]
     },
     "execution_count": 87,
     "metadata": {},
     "output_type": "execute_result"
    }
   ],
   "source": [
    "v2[0]"
   ]
  },
  {
   "cell_type": "code",
   "execution_count": 88,
   "metadata": {},
   "outputs": [
    {
     "data": {
      "text/plain": [
       "12.036298109381185"
      ]
     },
     "execution_count": 88,
     "metadata": {},
     "output_type": "execute_result"
    }
   ],
   "source": [
    "(-3.46933684)**2"
   ]
  }
 ],
 "metadata": {
  "kernelspec": {
   "display_name": "Python 3",
   "language": "python",
   "name": "python3"
  },
  "language_info": {
   "codemirror_mode": {
    "name": "ipython",
    "version": 3
   },
   "file_extension": ".py",
   "mimetype": "text/x-python",
   "name": "python",
   "nbconvert_exporter": "python",
   "pygments_lexer": "ipython3",
   "version": "3.6.8"
  }
 },
 "nbformat": 4,
 "nbformat_minor": 2
}
